{
  "nbformat": 4,
  "nbformat_minor": 0,
  "metadata": {
    "colab": {
      "provenance": [],
      "authorship_tag": "ABX9TyPhSMxbVFU2Bei08zj7mTFV",
      "include_colab_link": true
    },
    "kernelspec": {
      "name": "python3",
      "display_name": "Python 3"
    },
    "language_info": {
      "name": "python"
    }
  },
  "cells": [
    {
      "cell_type": "markdown",
      "metadata": {
        "id": "view-in-github",
        "colab_type": "text"
      },
      "source": [
        "<a href=\"https://colab.research.google.com/github/SB3020202/MDE_LAB1/blob/main/TFE1.ipynb\" target=\"_parent\"><img src=\"https://colab.research.google.com/assets/colab-badge.svg\" alt=\"Open In Colab\"/></a>"
      ]
    },
    {
      "cell_type": "code",
      "source": [
        "# Dimensionamento do 2º Andar DC\n",
        "\n",
        "# --- Parâmetros escolhidos ---\n",
        "IC2 = 17e-3    # Corrente de coletor (17 mA)\n",
        "VCE2 = 5       # Tensão coletor-emissor\n",
        "beta = 400     # Ganho de corrente do transistor\n",
        "\n",
        "\n",
        "# --- Cálculos iniciais ---\n",
        "IB2 = IC2 / beta               # Corrente de base\n",
        "IE2 = IC2 + IB2                # Corrente de emissor\n",
        "\n",
        "\n",
        "# --- Dados adicionais ---\n",
        "VEE = -6            # Tensão negativa\n",
        "VMBE = 0.65         # Tensão do multiplicador VBE\n",
        "VCC = 6             # Tensão positiva (observada na imagem)\n",
        "VEC2 = VCE2\n",
        "\n",
        "\n",
        "# --- Cálculo de RC2 ---\n",
        "RC2 = abs((VMBE - VEE) / IC2)    # Em Ω\n",
        "VRC2 = IC2 * RC2                # Queda de tensão no coletor\n",
        "VC2 = VRC2                      # Tensão no coletor de Q2\n",
        "\n",
        "\n",
        "# --- Cálculo de VRE2 e RE2 via KVL da malha C-E ---\n",
        "VRE2 = VCC - VEC2 - VMBE - VRC2\n",
        "RE2 = VRE2 / IE2\n",
        "\n",
        "\n",
        "# --- Resultados ---\n",
        "print(\"Valores Escolhidos e Obtidos:\\n\")\n",
        "print(\"Escolhidos:\")\n",
        "print(\"• IRC2 = 17 mA\")\n",
        "print(\"• VCE2 = 5 V\\n\")\n",
        "\n",
        "print(\"Obtidos:\")\n",
        "print(f\"• IRC2 = {IC2*1e3:.0f} mA\")\n",
        "print(f\"• VCE2 = {VCE2:.0f} V\")\n",
        "print(f\"• iB2 = {IB2*1e3:.4f} mA\")\n",
        "print(f\"• iE2 = {IE2*1e3:.4f} mA\")\n",
        "print(f\"• RC2 = {RC2:.0f} Ω\")\n",
        "print(f\"• VRC2 = {VRC2:.2f} V\")\n",
        "print(f\"• VRE2 = {VRE2:.2f} V\")\n",
        "print(f\"• RE2 = {RE2:.0f} Ω\")\n",
        "print(f\"• VC2 = {VC2:.2f} V\")"
      ],
      "metadata": {
        "id": "hXGt8TQ4maFD"
      },
      "execution_count": null,
      "outputs": []
    },
    {
      "cell_type": "code",
      "source": [
        "# Dimensionamento do 2º Andar AC parte 1\n",
        "\n",
        "# Parâmetros\n",
        "beta = 400\n",
        "RC2  = 315       # Ω\n",
        "VT   = 25.85e-3   # V\n",
        "IB2  = 17e-3 # A\n",
        "RE2  = 21        # Ω\n",
        "\n",
        "# Cálculo de rπ2\n",
        "r_pi2 = VT / IB2\n",
        "\n",
        "# Cálculo de AV2\n",
        "AV2 = (-beta * RC2) / (r_pi2 + (1 + beta) * RE2)\n",
        "\n",
        "# Impressão no estilo relatório\n",
        "print(\"Valores Obtidos:\\n\")\n",
        "print(f\"• Av2 = {AV2:.4f} (V/V)\")\n"
      ],
      "metadata": {
        "colab": {
          "base_uri": "https://localhost:8080/"
        },
        "id": "DJdYWWHXpUGh",
        "outputId": "9a07b329-6817-44cb-a1a9-d8f46761b1b0"
      },
      "execution_count": 23,
      "outputs": [
        {
          "output_type": "stream",
          "name": "stdout",
          "text": [
            "Valores Obtidos:\n",
            "\n",
            "• Av2 = -14.9599 (V/V)\n"
          ]
        }
      ]
    },
    {
      "cell_type": "code",
      "source": [
        "# Dimensionamento do 1º Andar DC\n",
        "\n",
        "# Parâmetros escolhidos\n",
        "VCC = 6                 # V\n",
        "VRE2 = 0.35             # V\n",
        "VBE = 0.65              # V\n",
        "iF1 = 1.5e-3            # A\n",
        "beta = 400\n",
        "\n",
        "# Correntes (convertidas para mA)\n",
        "iEQ1A = iF1 / 2 * 1e3                 # mA\n",
        "iBQ1A = (iF1 / 2) / (beta + 1) * 1e3  # mA\n",
        "iCQ1A = iBQ1A * (beta + 1)            # mA\n",
        "\n",
        "# Resistência RC1A e RC1B\n",
        "RC1A = RC1B = (VCC - 5) / (iF1 / 2)   # Ohm\n",
        "VRC1B = (iCQ1A / 1e3) * RC1B          # V\n",
        "\n",
        "# Impressão dos valores no estilo relatório\n",
        "print(\"Valores Obtidos:\\n\")\n",
        "print(f\"• V01         = {5:.1f} V\")\n",
        "print(f\"• iEQ1A       = iEQ1B = {iEQ1A:.4f} mA\")\n",
        "print(f\"• iBQ1A       = iBQ1B = {iBQ1A:.5f} mA\")\n",
        "print(f\"• iCQ1A       = iCQ1B = {iCQ1A:.4f} mA\")\n",
        "print(f\"• RC1A        = RC1B  = {RC1A:.3f} Ω\")\n",
        "print(f\"• VRC1B       = {VRC1B:.5f} V\")\n",
        "print(f\"• VC1         = {5:.1f} V\")\n",
        "\n",
        "\n"
      ],
      "metadata": {
        "id": "1SMQoZNnrwdl"
      },
      "execution_count": null,
      "outputs": []
    },
    {
      "cell_type": "code",
      "source": [
        "# Dimensionamento do 1º Andar AC\n",
        "\n",
        "# Cálculo de AV1\n",
        "AVtotal = 158\n",
        "AV2 = -14.9587\n",
        "AV3 = 1\n",
        "AV1 = AVtotal / (AV2 * AV3)\n",
        "\n",
        "# Parâmetros\n",
        "beta = 400\n",
        "RC1B = 1.333e3        # Ω\n",
        "VT = 25.85e-3         # V\n",
        "IBIA = 0.00187e-3     # A\n",
        "AV1_mod = abs(AV1)\n",
        "\n",
        "\n",
        "# Cálculo de rπA e rπB (iguais)\n",
        "r_pi = VT / IBIA\n",
        "\n",
        "# Cálculo de RE1B\n",
        "numerador = (beta * RC1B / AV1_mod) - 2 * r_pi\n",
        "RE1B = numerador / (2 * (1 + beta))\n",
        "\n",
        "# Impressão no estilo relatório\n",
        "print(\"Valores Obtidos:\\n\")\n",
        "print(f\"• AV1   = {AV1:.4f} (V/V)\")\n",
        "print(f\"• |AV1| = {abs(AV1):.4f} (V/V)\")\n",
        "print(f\"• RE1B  = {RE1B:.5f} Ω\")\n"
      ],
      "metadata": {
        "id": "3BLDT8NttMj7"
      },
      "execution_count": null,
      "outputs": []
    },
    {
      "cell_type": "markdown",
      "source": [
        " Ganho total do amplificador com influência de todos os andares"
      ],
      "metadata": {
        "id": "lOpgNCrnyzMW"
      }
    },
    {
      "cell_type": "code",
      "source": [
        "# Análise AC do 1º Andar parte 2\n",
        "\n",
        "# Parâmetros\n",
        "VT =   25.85e-3     # V\n",
        "IB =   0.00187e-3      # A\n",
        "RE1B = 28.47595     # Ω\n",
        "beta = 400\n",
        "\n",
        "# Cálculo de rπ\n",
        "r_piA = VT / IB\n",
        "r_piB = r_piA\n",
        "\n",
        "# Cálculo de rO1\n",
        "rO1 = RC1B\n",
        "\n",
        "# Cálculo de ri1\n",
        "ri1 = r_piA + r_piB + 2 * RE1B * (beta + 1)\n",
        "\n",
        "# Impressão\n",
        "print(\"Valores Obtidos:\\n\")\n",
        "print(f\"• rO1         = {rO1 / 1e3:.3f} kΩ\")\n",
        "print(f\"• rπA = rπB   = {r_piA / 1e3:.3f} kΩ\")\n",
        "print(f\"• ri1         = {ri1 / 1e3:.4f} kΩ\")"
      ],
      "metadata": {
        "colab": {
          "base_uri": "https://localhost:8080/"
        },
        "id": "_Mw9Z_PizKxq",
        "outputId": "1fe32819-2c72-464b-f85c-58636cb2df7b"
      },
      "execution_count": 32,
      "outputs": [
        {
          "output_type": "stream",
          "name": "stdout",
          "text": [
            "Valores Obtidos:\n",
            "\n",
            "• rO1         = 1.333 kΩ\n",
            "• rπA = rπB   = 13.824 kΩ\n",
            "• ri1         = 50.4848 kΩ\n"
          ]
        }
      ]
    },
    {
      "cell_type": "code",
      "source": [
        "# Análise AC do 2º Andar parte 2\n",
        "\n",
        "# Parâmetros\n",
        "VT   = 25.85e-3      # V\n",
        "IB2  = 0.0425e-3     # A\n",
        "RC2  = 315           # Ω\n",
        "RE2  = 21            # Ω\n",
        "beta = 400\n",
        "\n",
        "# Cálculo de rπ2\n",
        "r_pi2 = VT / IB2\n",
        "\n",
        "# Cálculo de rO2 (igual a RC2)\n",
        "rO2 = RC2\n",
        "\n",
        "# Cálculo de ri2\n",
        "ri2 = r_pi2 + (beta + 1) * RE2\n",
        "\n",
        "# Impressão\n",
        "print(\"Valores Obtidos:\\n\")\n",
        "print(f\"• rπ2 = {r_pi2:.3f} Ω\")\n",
        "print(f\"• rO2 = {rO2:.0f} Ω\")\n",
        "print(f\"• ri2 = {ri2:.3f} Ω\")\n"
      ],
      "metadata": {
        "id": "NNVYPQrM0eZ7"
      },
      "execution_count": null,
      "outputs": []
    },
    {
      "cell_type": "markdown",
      "source": [
        " 3.4 Ganhos de tensão do 1ºAndar, 2º andar e ganho em conjunto:"
      ],
      "metadata": {
        "id": "-Q7jwjyO3E_o"
      }
    },
    {
      "cell_type": "code",
      "source": [
        "# Cálculo do ganho AV1 com influência do segundo andar\n",
        "\n",
        "# Parâmetros\n",
        "beta = 400\n",
        "RC1B = 1.333e3        # Ω\n",
        "ri2 = 9029.235        # Ω\n",
        "r_pi = 13823.529      # Ω\n",
        "RE1B = 28.47595       # Ω\n",
        "\n",
        "# Cálculo do paralelo entre RC1B e ri2\n",
        "paralelo_RC1B_ri2 = (RC1B * ri2) / (RC1B + ri2)\n",
        "\n",
        "# Numerador\n",
        "numerador = beta * paralelo_RC1B_ri2\n",
        "\n",
        "# Denominador corrigido\n",
        "denominador = 2 * r_pi + (1 + beta) * 2 * RE1B\n",
        "\n",
        "# Cálculo de AV1\n",
        "AV1 = numerador / denominador\n",
        "\n",
        "# Impressão no estilo relatório\n",
        "print(\"Valores Obtidos:\\n\")\n",
        "#print(f\"• RC1B || ri2     = {paralelo_RC1B_ri2:.4f} Ω\")\n",
        "#print(f\"• Numerador       = {numerador:.4f}\")\n",
        "#print(f\"• Denominador     = {denominador:.4f}\")\n",
        "print(f\"• AV1             = {AV1:.5f} (V/V)\")\n",
        "\n",
        "###################################################################################\n",
        "\n",
        "# Cálculo do ganho total absoluto AVTOTAL\n",
        "\n",
        "# Valores conhecidos\n",
        "AV1 = 9.2029     # V/V\n",
        "AV2 = 14.9598    # V/V\n",
        "AV3 = 1          # V/V\n",
        "\n",
        "# Cálculo de AVTOTAL (módulo)\n",
        "AVTOTAL = abs(AV1) * abs(AV2) * abs(AV3)\n",
        "\n",
        "# Impressão no estilo relatório\n",
        "print(\"Ganho Total (AVTOTAL):\\n\")\n",
        "print(f\"• |AV1|     = {abs(AV1):.4f} (V/V)\")\n",
        "print(f\"• |AV2|     = {abs(AV2):.4f} (V/V)\")\n",
        "print(f\"• |AV3|     = {abs(AV3):.4f} (V/V)\")\n",
        "print(f\"• |AVTOTAL| = {AVTOTAL:.4f} (V/V)\")\n",
        "\n",
        "# Verificação de necessidade de otimização\n",
        "if AVTOTAL < 158:\n",
        "    print(f\"\\nComo |AVTOTAL| = {AVTOTAL:.4f} < 158, será necessário otimizar o ganho.\")\n",
        "else:\n",
        "    print(f\"\\n|AVTOTAL| = {AVTOTAL:.4f}, valor aceitável.\")\n",
        "\n",
        "\n"
      ],
      "metadata": {
        "id": "esu_xfGj3GQb"
      },
      "execution_count": null,
      "outputs": []
    },
    {
      "cell_type": "markdown",
      "source": [
        "NOVO Dimensionamento"
      ],
      "metadata": {
        "id": "dsLIOgVI8BOh"
      }
    },
    {
      "cell_type": "code",
      "source": [
        "# Parâmetros\n",
        "beta = 400\n",
        "VT = 25.85e-3\n",
        "IB2 = 0.0425e-3\n",
        "RE2 = 21\n",
        "AV1 = 9.203\n",
        "AV3 = 1\n",
        "\n",
        "# Cálculo de AV2 necessário\n",
        "AV2_necessario = 158 / (AV1 * AV3)\n",
        "\n",
        "# Cálculo de rπ2\n",
        "r_pi2 = VT / IB2\n",
        "\n",
        "# Cálculo de RC2 necessário\n",
        "RC2 = (-AV2_necessario * (r_pi2 + (1 + beta) * RE2)) / beta\n",
        "\n",
        "# Validação de tensão no coletor\n",
        "IC2 = 17e-3\n",
        "VRC2 = IC2 * RC2\n",
        "\n",
        "print(\"Resultados para atingir AVTOTAL = 158:\\n\")\n",
        "print(f\"• AV2 necessário = {AV2_necessario:.4f} (V/V)\")\n",
        "print(f\"• RC2 necessário = {RC2:.2f} Ω\")\n",
        "print(f\"• VRC2           = {VRC2:.2f} V (deve ser <= VCC = 6V)\")\n"
      ],
      "metadata": {
        "colab": {
          "base_uri": "https://localhost:8080/"
        },
        "id": "bTcnAbOj8EFR",
        "outputId": "85159574-f88e-4fb0-86fd-0c21815f6b78"
      },
      "execution_count": 38,
      "outputs": [
        {
          "output_type": "stream",
          "name": "stdout",
          "text": [
            "Resultados para atingir AVTOTAL = 158:\n",
            "\n",
            "• AV2 necessário = 17.1683 (V/V)\n",
            "• RC2 necessário = -387.54 Ω\n",
            "• VRC2           = -6.59 V (deve ser <= VCC = 6V)\n"
          ]
        }
      ]
    }
  ]
}